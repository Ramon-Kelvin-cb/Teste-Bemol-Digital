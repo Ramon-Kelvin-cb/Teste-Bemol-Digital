{
 "cells": [
  {
   "cell_type": "code",
   "execution_count": 77,
   "metadata": {
    "id": "6Ay2NgUHMfnk"
   },
   "outputs": [],
   "source": [
    "#Importando Bibliotecas\n",
    "import pandas as pd\n",
    "import statistics as sts\n",
    "import numpy as np\n",
    "import matplotlib.pyplot as plt\n",
    "from datetime import datetime\n",
    "from statsmodels.tsa.seasonal import seasonal_decompose\n",
    "from statsmodels.tsa.arima_model import ARIMA\n",
    "\n",
    "from pandas.plotting import register_matplotlib_converters\n",
    "register_matplotlib_converters()\n",
    "\n",
    "#Elimina os warnings das bibliotecas\n",
    "import warnings\n",
    "warnings.filterwarnings('ignore')"
   ]
  },
  {
   "cell_type": "code",
   "execution_count": 2,
   "metadata": {
    "colab": {
     "base_uri": "https://localhost:8080/"
    },
    "id": "iNYiIIGqMvrV",
    "outputId": "5ea5443e-f869-4b97-b63d-23bfc305fd64",
    "scrolled": true
   },
   "outputs": [],
   "source": [
    "#Importando os dados\n",
    "dados1 = pd.read_csv(\"Dados_vale_credito_tabela1.csv\", sep = \",\")\n",
    "dados2 = pd.read_csv(\"Dados_vale_credito_tabela2.csv\", sep = \",\")"
   ]
  },
  {
   "cell_type": "markdown",
   "metadata": {},
   "source": [
    "**1. ALGUMAS ESTATÍSTICAS DA COMPRA**"
   ]
  },
  {
   "cell_type": "code",
   "execution_count": 4,
   "metadata": {
    "colab": {
     "base_uri": "https://localhost:8080/"
    },
    "id": "gmR-D1q57rqW",
    "outputId": "dff37c37-91af-4764-9632-5b033476b954"
   },
   "outputs": [
    {
     "data": {
      "text/plain": [
       "DESCRICAO_NIVEL\n",
       "AZUL          11\n",
       "DIAMANTE     297\n",
       "DIAMANTE+    448\n",
       "OURO         166\n",
       "PRATA         78\n",
       "dtype: int64"
      ]
     },
     "execution_count": 4,
     "metadata": {},
     "output_type": "execute_result"
    }
   ],
   "source": [
    "#Tipos de clientes\n",
    "dados1.groupby(['DESCRICAO_NIVEL']).size()"
   ]
  },
  {
   "cell_type": "code",
   "execution_count": 5,
   "metadata": {
    "colab": {
     "base_uri": "https://localhost:8080/"
    },
    "id": "gPHhZS9mtngd",
    "outputId": "fd87316d-e82b-4502-fc3e-7252baaa27d6"
   },
   "outputs": [
    {
     "name": "stdout",
     "output_type": "stream",
     "text": [
      "Azul = 1.1\n",
      "Diamante = 29.7\n",
      "Diamante+ = 44.8\n",
      "Ouro = 16.6\n",
      "Prata = 7.8\n"
     ]
    }
   ],
   "source": [
    "#Porcentagens de níveis de clientes\n",
    "total1 = dados1.shape[0]\n",
    "azul = dados1[dados1['DESCRICAO_NIVEL'] == 'AZUL']\n",
    "dima = dados1[dados1['DESCRICAO_NIVEL'] == 'DIAMANTE']\n",
    "dimap = dados1[dados1['DESCRICAO_NIVEL'] == 'DIAMANTE+']\n",
    "ouro = dados1[dados1['DESCRICAO_NIVEL'] == 'OURO']\n",
    "prata = dados1[dados1['DESCRICAO_NIVEL'] == 'PRATA']\n",
    "\n",
    "print(\"Azul =\", 100*azul.shape[0]/total1)\n",
    "print(\"Diamante =\", 100*dima.shape[0]/total1)\n",
    "print(\"Diamante+ =\", 100*dimap.shape[0]/total1)\n",
    "print(\"Ouro =\", 100*ouro.shape[0]/total1)\n",
    "print(\"Prata =\", 100*prata.shape[0]/total1)\n",
    "\n"
   ]
  },
  {
   "cell_type": "markdown",
   "metadata": {},
   "source": [
    "Mais de 70% dos clientes desses dados estão acima da categoria Ouro."
   ]
  },
  {
   "cell_type": "code",
   "execution_count": 3,
   "metadata": {
    "scrolled": true
   },
   "outputs": [
    {
     "data": {
      "text/plain": [
       "TIPO_TRANSACAO_VC\n",
       "AJUSTE_CONTABIL_OU_LANCAM_INCORRETO               369\n",
       "AJUSTE_LANCAMENTO_INCORRETO                        15\n",
       "CREDITO_CONVERSAO_CRED_GERADO_DEVOLUCAO            52\n",
       "CREDITO_GERADO_DEVOLUCAO_COMPRAS                  156\n",
       "CREDITO_GERADO_POR_COMPRA_DE_VC                 24056\n",
       "CREDITO_POR_COMPRA_LISTA_PRESENTES               6803\n",
       "CREDITO_POR_TROCO                              234875\n",
       "CREDITO_PREMIACAO_FUNCIONARIO                     697\n",
       "CREDITO_PREMIACAO_GERENCIAL_CLIENTES              615\n",
       "DEBITO_AUTOMATICO_PAG_PRESTACOES                22119\n",
       "DEBITO_COMPRA_COM_VC                            32591\n",
       "DEBITO_DEVOLUCAO_COMPRA_DE_VC                      25\n",
       "DEBITO_DEVOLUCAO_COMPRA_FEITA_COM_VC             1004\n",
       "DEBITO_DUPLICIDADE_LANCAMENTO                       1\n",
       "DEBITO_ESTORNO_LISTA_PRESENTES                     16\n",
       "DEBITO_ESTORNO_TROCO                                1\n",
       "DEBITO_PAGAMENTO_COM_VC                         56800\n",
       "DEBITO_POR_ESTORNO_TROCO                           16\n",
       "DOACAO                                              1\n",
       "TRANSFERENCIA_ENTRE_CLIENTES_BEMOL                 79\n",
       "TRANSFERENCIA_ENTRE_CLIENTES_BEMOL_WHATSAPP        33\n",
       "dtype: int64"
      ]
     },
     "execution_count": 3,
     "metadata": {},
     "output_type": "execute_result"
    }
   ],
   "source": [
    "dados2.groupby(['TIPO_TRANSACAO_VC']).size()"
   ]
  },
  {
   "cell_type": "markdown",
   "metadata": {},
   "source": [
    "Analisando esses dados que foram apresentados é possível ver que os registros que simbolizam a compra de um Vale Crédito são aqueles em que o aatributo TIPO_TRANSACAO_VC é igual a CREDITO_GERADO_POR_COMPRA_DE_VC. Sendo assim, temos 24056 compras de Vale Créditos no periodo em que foram coletados os dados."
   ]
  },
  {
   "cell_type": "code",
   "execution_count": 3,
   "metadata": {
    "colab": {
     "base_uri": "https://localhost:8080/"
    },
    "id": "FmHX04Z786qY",
    "outputId": "1890a7dc-0321-40cd-d89e-8b4465e2b1a9"
   },
   "outputs": [
    {
     "data": {
      "text/plain": [
       "512"
      ]
     },
     "execution_count": 3,
     "metadata": {},
     "output_type": "execute_result"
    }
   ],
   "source": [
    "#Média de Vale Créditos vendidos por loja no período de teempo em que foram coletados os dados\n",
    "k = round(sts.mean(dados2[dados2[\"TIPO_TRANSACAO_VC\"] == 'CREDITO_GERADO_POR_COMPRA_DE_VC'].groupby(['LOJA']).size()))\n",
    "k"
   ]
  },
  {
   "cell_type": "markdown",
   "metadata": {},
   "source": [
    "Assim, cada loja vendeu em média 512 Vale Créditos no período da coleta dos dados."
   ]
  },
  {
   "cell_type": "code",
   "execution_count": 8,
   "metadata": {},
   "outputs": [
    {
     "data": {
      "text/plain": [
       "188.31"
      ]
     },
     "execution_count": 8,
     "metadata": {},
     "output_type": "execute_result"
    }
   ],
   "source": [
    "#Valor médio adicionado por vale compras\n",
    "lista = dados2[dados2['TIPO_TRANSACAO_VC'] == 'CREDITO_GERADO_POR_COMPRA_DE_VC']\n",
    "media_valores = round(sts.mean(lista['VALOR_MOVIMENTADO']), 2)\n",
    "media_valores"
   ]
  },
  {
   "cell_type": "markdown",
   "metadata": {},
   "source": [
    "Assim, cada clientre adicionou um crédito de em média R$188,31 à sua conta por vale crédito comprado."
   ]
  },
  {
   "cell_type": "code",
   "execution_count": 7,
   "metadata": {
    "colab": {
     "base_uri": "https://localhost:8080/",
     "height": 616
    },
    "id": "zpGJX0oHddHk",
    "outputId": "7ce42300-4161-4640-c287-5ce3eea1a4f3"
   },
   "outputs": [
    {
     "name": "stdout",
     "output_type": "stream",
     "text": [
      "Crédito = 70.65\n",
      "Débito = 29.35\n"
     ]
    }
   ],
   "source": [
    "#Porcentagem de compras com débito e crédito\n",
    "total2 = dados2.shape[0]\n",
    "a = dados2[dados2['DEBITO_OU_CREDITO'] == 'CREDITO']\n",
    "b = dados2[dados2['DEBITO_OU_CREDITO'] == 'DEBITO']\n",
    "\n",
    "print(\"Crédito =\", round(100*a.shape[0]/total2, 2))\n",
    "print(\"Débito =\", round(100*b.shape[0]/total2, 2))"
   ]
  },
  {
   "cell_type": "markdown",
   "metadata": {},
   "source": [
    "**2. COMO OS DADOS ESTÃO DISTRIBUÍDOS NO TEMPO?**"
   ]
  },
  {
   "cell_type": "code",
   "execution_count": 10,
   "metadata": {
    "id": "NM2k288YNpUU"
   },
   "outputs": [],
   "source": [
    "#Convertendo as datas \n",
    "dateparse = lambda dates : datetime.strptime(dates, '%Y-%m-%d')\n",
    "dados_ts = pd.read_csv(\"Dados_vale_credito_tabela2.csv\", parse_dates=['DATA_DA_MOVIMENTACAO'],\n",
    "                      date_parser = dateparse)"
   ]
  },
  {
   "cell_type": "code",
   "execution_count": 11,
   "metadata": {
    "id": "MoFrpHWlaUtI"
   },
   "outputs": [
    {
     "data": {
      "text/html": [
       "<div>\n",
       "<style scoped>\n",
       "    .dataframe tbody tr th:only-of-type {\n",
       "        vertical-align: middle;\n",
       "    }\n",
       "\n",
       "    .dataframe tbody tr th {\n",
       "        vertical-align: top;\n",
       "    }\n",
       "\n",
       "    .dataframe thead th {\n",
       "        text-align: right;\n",
       "    }\n",
       "</style>\n",
       "<table border=\"1\" class=\"dataframe\">\n",
       "  <thead>\n",
       "    <tr style=\"text-align: right;\">\n",
       "      <th></th>\n",
       "      <th>CLIENTE</th>\n",
       "      <th>DEBITO_OU_CREDITO</th>\n",
       "      <th>TIPO_TRANSACAO_VC</th>\n",
       "      <th>ID_LISTA_PRESENTES</th>\n",
       "      <th>PEDIDO_BOL</th>\n",
       "      <th>VALOR_MOVIMENTADO</th>\n",
       "      <th>SALDO</th>\n",
       "      <th>MOEDA</th>\n",
       "      <th>DATA_DA_MOVIMENTACAO</th>\n",
       "      <th>FATURA</th>\n",
       "      <th>DATA_CRIACAO</th>\n",
       "      <th>LOJA</th>\n",
       "    </tr>\n",
       "  </thead>\n",
       "  <tbody>\n",
       "    <tr>\n",
       "      <th>202188</th>\n",
       "      <td>1955961</td>\n",
       "      <td>CREDITO</td>\n",
       "      <td>CREDITO_POR_TROCO</td>\n",
       "      <td>0</td>\n",
       "      <td>0</td>\n",
       "      <td>0.08</td>\n",
       "      <td>1.12</td>\n",
       "      <td>BRL</td>\n",
       "      <td>2016-01-02</td>\n",
       "      <td>NaN</td>\n",
       "      <td>2016-01-02</td>\n",
       "      <td>109.0</td>\n",
       "    </tr>\n",
       "    <tr>\n",
       "      <th>349534</th>\n",
       "      <td>1871651</td>\n",
       "      <td>CREDITO</td>\n",
       "      <td>CREDITO_POR_TROCO</td>\n",
       "      <td>0</td>\n",
       "      <td>0</td>\n",
       "      <td>0.24</td>\n",
       "      <td>1.53</td>\n",
       "      <td>BRL</td>\n",
       "      <td>2016-01-02</td>\n",
       "      <td>NaN</td>\n",
       "      <td>2016-01-02</td>\n",
       "      <td>106.0</td>\n",
       "    </tr>\n",
       "    <tr>\n",
       "      <th>298604</th>\n",
       "      <td>1396511</td>\n",
       "      <td>CREDITO</td>\n",
       "      <td>CREDITO_POR_TROCO</td>\n",
       "      <td>0</td>\n",
       "      <td>0</td>\n",
       "      <td>0.66</td>\n",
       "      <td>0.66</td>\n",
       "      <td>BRL</td>\n",
       "      <td>2016-01-02</td>\n",
       "      <td>NaN</td>\n",
       "      <td>2016-01-02</td>\n",
       "      <td>101.0</td>\n",
       "    </tr>\n",
       "    <tr>\n",
       "      <th>366757</th>\n",
       "      <td>250708</td>\n",
       "      <td>CREDITO</td>\n",
       "      <td>CREDITO_POR_TROCO</td>\n",
       "      <td>0</td>\n",
       "      <td>0</td>\n",
       "      <td>1.09</td>\n",
       "      <td>1.09</td>\n",
       "      <td>BRL</td>\n",
       "      <td>2016-01-02</td>\n",
       "      <td>NaN</td>\n",
       "      <td>2016-01-02</td>\n",
       "      <td>114.0</td>\n",
       "    </tr>\n",
       "    <tr>\n",
       "      <th>3569</th>\n",
       "      <td>2275559</td>\n",
       "      <td>CREDITO</td>\n",
       "      <td>CREDITO_POR_COMPRA_LISTA_PRESENTES</td>\n",
       "      <td>389536</td>\n",
       "      <td>0</td>\n",
       "      <td>108.00</td>\n",
       "      <td>108.00</td>\n",
       "      <td>BRL</td>\n",
       "      <td>2016-01-02</td>\n",
       "      <td>135848357.0</td>\n",
       "      <td>2016-01-02</td>\n",
       "      <td>201.0</td>\n",
       "    </tr>\n",
       "    <tr>\n",
       "      <th>...</th>\n",
       "      <td>...</td>\n",
       "      <td>...</td>\n",
       "      <td>...</td>\n",
       "      <td>...</td>\n",
       "      <td>...</td>\n",
       "      <td>...</td>\n",
       "      <td>...</td>\n",
       "      <td>...</td>\n",
       "      <td>...</td>\n",
       "      <td>...</td>\n",
       "      <td>...</td>\n",
       "      <td>...</td>\n",
       "    </tr>\n",
       "    <tr>\n",
       "      <th>93013</th>\n",
       "      <td>1454035</td>\n",
       "      <td>DEBITO</td>\n",
       "      <td>DEBITO_AUTOMATICO_PAG_PRESTACOES</td>\n",
       "      <td>0</td>\n",
       "      <td>0</td>\n",
       "      <td>-0.83</td>\n",
       "      <td>0.00</td>\n",
       "      <td>BRL</td>\n",
       "      <td>2020-10-18</td>\n",
       "      <td>NaN</td>\n",
       "      <td>2020-10-18</td>\n",
       "      <td>100.0</td>\n",
       "    </tr>\n",
       "    <tr>\n",
       "      <th>141830</th>\n",
       "      <td>1243523</td>\n",
       "      <td>CREDITO</td>\n",
       "      <td>CREDITO_GERADO_POR_COMPRA_DE_VC</td>\n",
       "      <td>0</td>\n",
       "      <td>0</td>\n",
       "      <td>33.88</td>\n",
       "      <td>36.27</td>\n",
       "      <td>BRL</td>\n",
       "      <td>2020-10-18</td>\n",
       "      <td>165967001.0</td>\n",
       "      <td>2020-10-18</td>\n",
       "      <td>115.0</td>\n",
       "    </tr>\n",
       "    <tr>\n",
       "      <th>290525</th>\n",
       "      <td>1887628</td>\n",
       "      <td>DEBITO</td>\n",
       "      <td>DEBITO_AUTOMATICO_PAG_PRESTACOES</td>\n",
       "      <td>0</td>\n",
       "      <td>0</td>\n",
       "      <td>-156.47</td>\n",
       "      <td>119.91</td>\n",
       "      <td>BRL</td>\n",
       "      <td>2020-10-18</td>\n",
       "      <td>NaN</td>\n",
       "      <td>2020-10-18</td>\n",
       "      <td>100.0</td>\n",
       "    </tr>\n",
       "    <tr>\n",
       "      <th>346624</th>\n",
       "      <td>1430191</td>\n",
       "      <td>DEBITO</td>\n",
       "      <td>DEBITO_AUTOMATICO_PAG_PRESTACOES</td>\n",
       "      <td>0</td>\n",
       "      <td>0</td>\n",
       "      <td>-0.65</td>\n",
       "      <td>0.00</td>\n",
       "      <td>BRL</td>\n",
       "      <td>2020-10-18</td>\n",
       "      <td>NaN</td>\n",
       "      <td>2020-10-18</td>\n",
       "      <td>100.0</td>\n",
       "    </tr>\n",
       "    <tr>\n",
       "      <th>83231</th>\n",
       "      <td>1995314</td>\n",
       "      <td>DEBITO</td>\n",
       "      <td>DEBITO_AUTOMATICO_PAG_PRESTACOES</td>\n",
       "      <td>0</td>\n",
       "      <td>0</td>\n",
       "      <td>-299.85</td>\n",
       "      <td>0.08</td>\n",
       "      <td>BRL</td>\n",
       "      <td>2020-10-18</td>\n",
       "      <td>NaN</td>\n",
       "      <td>2020-10-18</td>\n",
       "      <td>100.0</td>\n",
       "    </tr>\n",
       "  </tbody>\n",
       "</table>\n",
       "<p>380324 rows × 12 columns</p>\n",
       "</div>"
      ],
      "text/plain": [
       "        CLIENTE DEBITO_OU_CREDITO                   TIPO_TRANSACAO_VC  \\\n",
       "202188  1955961           CREDITO                   CREDITO_POR_TROCO   \n",
       "349534  1871651           CREDITO                   CREDITO_POR_TROCO   \n",
       "298604  1396511           CREDITO                   CREDITO_POR_TROCO   \n",
       "366757   250708           CREDITO                   CREDITO_POR_TROCO   \n",
       "3569    2275559           CREDITO  CREDITO_POR_COMPRA_LISTA_PRESENTES   \n",
       "...         ...               ...                                 ...   \n",
       "93013   1454035            DEBITO    DEBITO_AUTOMATICO_PAG_PRESTACOES   \n",
       "141830  1243523           CREDITO     CREDITO_GERADO_POR_COMPRA_DE_VC   \n",
       "290525  1887628            DEBITO    DEBITO_AUTOMATICO_PAG_PRESTACOES   \n",
       "346624  1430191            DEBITO    DEBITO_AUTOMATICO_PAG_PRESTACOES   \n",
       "83231   1995314            DEBITO    DEBITO_AUTOMATICO_PAG_PRESTACOES   \n",
       "\n",
       "        ID_LISTA_PRESENTES  PEDIDO_BOL  VALOR_MOVIMENTADO   SALDO MOEDA  \\\n",
       "202188                   0           0               0.08    1.12   BRL   \n",
       "349534                   0           0               0.24    1.53   BRL   \n",
       "298604                   0           0               0.66    0.66   BRL   \n",
       "366757                   0           0               1.09    1.09   BRL   \n",
       "3569                389536           0             108.00  108.00   BRL   \n",
       "...                    ...         ...                ...     ...   ...   \n",
       "93013                    0           0              -0.83    0.00   BRL   \n",
       "141830                   0           0              33.88   36.27   BRL   \n",
       "290525                   0           0            -156.47  119.91   BRL   \n",
       "346624                   0           0              -0.65    0.00   BRL   \n",
       "83231                    0           0            -299.85    0.08   BRL   \n",
       "\n",
       "       DATA_DA_MOVIMENTACAO       FATURA DATA_CRIACAO   LOJA  \n",
       "202188           2016-01-02          NaN   2016-01-02  109.0  \n",
       "349534           2016-01-02          NaN   2016-01-02  106.0  \n",
       "298604           2016-01-02          NaN   2016-01-02  101.0  \n",
       "366757           2016-01-02          NaN   2016-01-02  114.0  \n",
       "3569             2016-01-02  135848357.0   2016-01-02  201.0  \n",
       "...                     ...          ...          ...    ...  \n",
       "93013            2020-10-18          NaN   2020-10-18  100.0  \n",
       "141830           2020-10-18  165967001.0   2020-10-18  115.0  \n",
       "290525           2020-10-18          NaN   2020-10-18  100.0  \n",
       "346624           2020-10-18          NaN   2020-10-18  100.0  \n",
       "83231            2020-10-18          NaN   2020-10-18  100.0  \n",
       "\n",
       "[380324 rows x 12 columns]"
      ]
     },
     "execution_count": 11,
     "metadata": {},
     "output_type": "execute_result"
    }
   ],
   "source": [
    "#Organizando os dados em ordem crescente de data\n",
    "dados_ts.sort_values(by = \"DATA_DA_MOVIMENTACAO\", ascending = True, inplace = True)\n",
    "dados_ts"
   ]
  },
  {
   "cell_type": "markdown",
   "metadata": {},
   "source": [
    "Observando a coluna DATA_DA_MOVIMENTACAO vemos que o período de tempo dessa coleta de dados é de janeiro de 2016 até outubro de 2020"
   ]
  },
  {
   "cell_type": "code",
   "execution_count": 13,
   "metadata": {
    "id": "9HjnawTnYr16"
   },
   "outputs": [],
   "source": [
    "#Alterando o índice para as datas\n",
    "#Importante para o caso de se querer trabalhar com séries temporais nesses dados\n",
    "dados_ts.index = dados_ts.DATA_DA_MOVIMENTACAO"
   ]
  },
  {
   "cell_type": "code",
   "execution_count": 79,
   "metadata": {
    "scrolled": true
   },
   "outputs": [
    {
     "data": {
      "text/plain": [
       "DATA_DA_MOVIMENTACAO\n",
       "2019-01-04     2\n",
       "2019-01-06     3\n",
       "2019-01-07     1\n",
       "2019-01-08     1\n",
       "2019-01-09     3\n",
       "              ..\n",
       "2020-10-14    46\n",
       "2020-10-15    70\n",
       "2020-10-16    49\n",
       "2020-10-17    55\n",
       "2020-10-18    19\n",
       "Length: 637, dtype: int64"
      ]
     },
     "execution_count": 79,
     "metadata": {},
     "output_type": "execute_result"
    }
   ],
   "source": [
    "#Criar um conjunto onde a operação registrada é a de realização de compra de Vale Crédito\n",
    "k = dados_ts[dados_ts['TIPO_TRANSACAO_VC'] == \"CREDITO_GERADO_POR_COMPRA_DE_VC\"]\n",
    "k.index.name = None\n",
    "\n",
    "#Cada dia tem a compra uma certa quantidade de Vale Créditos, então criei uma série temporal com cada uma dessas quantidades\n",
    "ts = k.groupby(['DATA_DA_MOVIMENTACAO']).size()\n",
    "ts\n",
    "\n",
    "\n"
   ]
  },
  {
   "cell_type": "markdown",
   "metadata": {},
   "source": [
    "Observando essa série temporal, temos que a venda de Vale Créditos só se iniciou em janeiro de 2019, seguindo até os dias atuais "
   ]
  },
  {
   "cell_type": "markdown",
   "metadata": {},
   "source": [
    "**3. COMO A COMPRA DOS VALE CRÉDITOS CRESCEU/DIMINUIU NOS ÚLTIMOS 6 MESES?**"
   ]
  },
  {
   "cell_type": "code",
   "execution_count": 80,
   "metadata": {},
   "outputs": [
    {
     "data": {
      "text/plain": [
       "<AxesSubplot:title={'center':'COMPRA DE VC NOS ÚLTIMOS 6 MESES'}, xlabel='DATA DA COMPRA', ylabel='QUANTIDADE'>"
      ]
     },
     "execution_count": 80,
     "metadata": {},
     "output_type": "execute_result"
    },
    {
     "data": {
      "image/png": "[encoded data removed]",
      "text/plain": [
       "<Figure size 432x288 with 1 Axes>"
      ]
     },
     "metadata": {
      "needs_background": "light"
     },
     "output_type": "display_data"
    }
   ],
   "source": [
    "#Plotar o gráfico para se ter uma visão geral da série temporal de compra de VC nos últimos 6 meses\n",
    "ts1 = ts['2020-04':]\n",
    "qnt = ts1.shape[0]\n",
    "ts1.plot(title = 'COMPRA DE VC NOS ÚLTIMOS 6 MESES', xlabel = 'DATA DA COMPRA', ylabel = 'QUANTIDADE')"
   ]
  },
  {
   "cell_type": "code",
   "execution_count": 81,
   "metadata": {},
   "outputs": [],
   "source": [
    "#Decomposição da série com base na quantidade de observações nos últimos 6 meses\n",
    "decomposicao = seasonal_decompose(ts1, period = int(qnt/2))"
   ]
  },
  {
   "cell_type": "code",
   "execution_count": 82,
   "metadata": {},
   "outputs": [
    {
     "data": {
      "text/plain": [
       "[<matplotlib.lines.Line2D at 0x21b2788cc40>]"
      ]
     },
     "execution_count": 82,
     "metadata": {},
     "output_type": "execute_result"
    },
    {
     "data": {
      "image/png": "[encoded data removed]",
      "text/plain": [
       "<Figure size 432x288 with 1 Axes>"
      ]
     },
     "metadata": {
      "needs_background": "light"
     },
     "output_type": "display_data"
    }
   ],
   "source": [
    "#Analisar a tendência nos últimos 6 meses\n",
    "tendencia = decomposicao.trend\n",
    "plt.plot(tendencia)"
   ]
  },
  {
   "cell_type": "code",
   "execution_count": 83,
   "metadata": {
    "scrolled": true
   },
   "outputs": [
    {
     "data": {
      "text/plain": [
       "[<matplotlib.lines.Line2D at 0x21b281fc850>]"
      ]
     },
     "execution_count": 83,
     "metadata": {},
     "output_type": "execute_result"
    },
    {
     "data": {
      "image/png": "[encoded data removed]",
      "text/plain": [
       "<Figure size 432x288 with 1 Axes>"
      ]
     },
     "metadata": {
      "needs_background": "light"
     },
     "output_type": "display_data"
    }
   ],
   "source": [
    "#Analisar a sazonalidade dos últimos 6 meses\n",
    "sazonal = decomposicao.seasonal\n",
    "plt.plot(sazonal)"
   ]
  },
  {
   "cell_type": "markdown",
   "metadata": {},
   "source": [
    "Com esses gráficos podemos observar que a compra de VC nos últimos 6 meses seguiu uma tendência crescente com uma sazonalidade até que bem regular que ocorre num período de um pouco mais de 3 meses, com um pico de compras no final do primeiro mês e a maior baixa um pouco antes da metade do segundo."
   ]
  },
  {
   "cell_type": "markdown",
   "metadata": {},
   "source": [
    "**4. QUAL MODELO VOCÊ USARIA PARA PREVER O CRESCIMENTO NOS PRÓXIMOS 6 MESES?**"
   ]
  },
  {
   "cell_type": "markdown",
   "metadata": {},
   "source": [
    "Usaria o modelo ARIMA para prever pontos futuros da séria baseado nos dados desde janeiro de 2019, porém não sei como implementá-lo."
   ]
  }
 ],
 "metadata": {
  "colab": {
   "collapsed_sections": [],
   "name": "DesafioBeDigital.ipynb",
   "provenance": [],
   "toc_visible": true
  },
  "kernelspec": {
   "display_name": "Python 3",
   "language": "python",
   "name": "python3"
  },
  "language_info": {
   "codemirror_mode": {
    "name": "ipython",
    "version": 3
   },
   "file_extension": ".py",
   "mimetype": "text/x-python",
   "name": "python",
   "nbconvert_exporter": "python",
   "pygments_lexer": "ipython3",
   "version": "3.8.5"
  }
 },
 "nbformat": 4,
 "nbformat_minor": 1
}
